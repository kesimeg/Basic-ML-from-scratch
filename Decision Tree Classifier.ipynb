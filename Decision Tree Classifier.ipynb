{
 "cells": [
  {
   "cell_type": "code",
   "execution_count": 1,
   "id": "d77870a2",
   "metadata": {},
   "outputs": [],
   "source": [
    "import numpy as np\n",
    "import pandas as pd\n",
    "from sklearn.preprocessing import LabelEncoder\n",
    "import seaborn as sns\n",
    "import matplotlib.pyplot as plt"
   ]
  },
  {
   "cell_type": "markdown",
   "id": "783be7a6",
   "metadata": {},
   "source": [
    "First lets load our data"
   ]
  },
  {
   "cell_type": "code",
   "execution_count": 2,
   "id": "92272cf2",
   "metadata": {},
   "outputs": [
    {
     "data": {
      "text/html": [
       "<div>\n",
       "<style scoped>\n",
       "    .dataframe tbody tr th:only-of-type {\n",
       "        vertical-align: middle;\n",
       "    }\n",
       "\n",
       "    .dataframe tbody tr th {\n",
       "        vertical-align: top;\n",
       "    }\n",
       "\n",
       "    .dataframe thead th {\n",
       "        text-align: right;\n",
       "    }\n",
       "</style>\n",
       "<table border=\"1\" class=\"dataframe\">\n",
       "  <thead>\n",
       "    <tr style=\"text-align: right;\">\n",
       "      <th></th>\n",
       "      <th>sepal_length</th>\n",
       "      <th>sepal_width</th>\n",
       "      <th>petal_length</th>\n",
       "      <th>petal_width</th>\n",
       "      <th>species</th>\n",
       "    </tr>\n",
       "  </thead>\n",
       "  <tbody>\n",
       "    <tr>\n",
       "      <th>0</th>\n",
       "      <td>5.1</td>\n",
       "      <td>3.5</td>\n",
       "      <td>1.4</td>\n",
       "      <td>0.2</td>\n",
       "      <td>setosa</td>\n",
       "    </tr>\n",
       "    <tr>\n",
       "      <th>1</th>\n",
       "      <td>4.9</td>\n",
       "      <td>3.0</td>\n",
       "      <td>1.4</td>\n",
       "      <td>0.2</td>\n",
       "      <td>setosa</td>\n",
       "    </tr>\n",
       "    <tr>\n",
       "      <th>2</th>\n",
       "      <td>4.7</td>\n",
       "      <td>3.2</td>\n",
       "      <td>1.3</td>\n",
       "      <td>0.2</td>\n",
       "      <td>setosa</td>\n",
       "    </tr>\n",
       "    <tr>\n",
       "      <th>3</th>\n",
       "      <td>4.6</td>\n",
       "      <td>3.1</td>\n",
       "      <td>1.5</td>\n",
       "      <td>0.2</td>\n",
       "      <td>setosa</td>\n",
       "    </tr>\n",
       "    <tr>\n",
       "      <th>4</th>\n",
       "      <td>5.0</td>\n",
       "      <td>3.6</td>\n",
       "      <td>1.4</td>\n",
       "      <td>0.2</td>\n",
       "      <td>setosa</td>\n",
       "    </tr>\n",
       "  </tbody>\n",
       "</table>\n",
       "</div>"
      ],
      "text/plain": [
       "   sepal_length  sepal_width  petal_length  petal_width species\n",
       "0           5.1          3.5           1.4          0.2  setosa\n",
       "1           4.9          3.0           1.4          0.2  setosa\n",
       "2           4.7          3.2           1.3          0.2  setosa\n",
       "3           4.6          3.1           1.5          0.2  setosa\n",
       "4           5.0          3.6           1.4          0.2  setosa"
      ]
     },
     "execution_count": 2,
     "metadata": {},
     "output_type": "execute_result"
    }
   ],
   "source": [
    "data = pd.read_csv(\"./data/iris.csv\")\n",
    "data.head()"
   ]
  },
  {
   "cell_type": "markdown",
   "id": "45f14b31",
   "metadata": {},
   "source": [
    "We will represent species (or classes) as integers instead of their names. To do this we will use sci-kit's LabelEncoder"
   ]
  },
  {
   "cell_type": "code",
   "execution_count": 3,
   "id": "e94a0ca1",
   "metadata": {},
   "outputs": [],
   "source": [
    "label_enc = LabelEncoder()\n",
    "data[\"species\"] = label_enc.fit_transform(data[\"species\"])"
   ]
  },
  {
   "cell_type": "code",
   "execution_count": 4,
   "id": "8af56e17",
   "metadata": {},
   "outputs": [
    {
     "data": {
      "text/html": [
       "<div>\n",
       "<style scoped>\n",
       "    .dataframe tbody tr th:only-of-type {\n",
       "        vertical-align: middle;\n",
       "    }\n",
       "\n",
       "    .dataframe tbody tr th {\n",
       "        vertical-align: top;\n",
       "    }\n",
       "\n",
       "    .dataframe thead th {\n",
       "        text-align: right;\n",
       "    }\n",
       "</style>\n",
       "<table border=\"1\" class=\"dataframe\">\n",
       "  <thead>\n",
       "    <tr style=\"text-align: right;\">\n",
       "      <th></th>\n",
       "      <th>sepal_length</th>\n",
       "      <th>sepal_width</th>\n",
       "      <th>petal_length</th>\n",
       "      <th>petal_width</th>\n",
       "      <th>species</th>\n",
       "    </tr>\n",
       "  </thead>\n",
       "  <tbody>\n",
       "    <tr>\n",
       "      <th>0</th>\n",
       "      <td>5.1</td>\n",
       "      <td>3.5</td>\n",
       "      <td>1.4</td>\n",
       "      <td>0.2</td>\n",
       "      <td>0</td>\n",
       "    </tr>\n",
       "    <tr>\n",
       "      <th>1</th>\n",
       "      <td>4.9</td>\n",
       "      <td>3.0</td>\n",
       "      <td>1.4</td>\n",
       "      <td>0.2</td>\n",
       "      <td>0</td>\n",
       "    </tr>\n",
       "    <tr>\n",
       "      <th>2</th>\n",
       "      <td>4.7</td>\n",
       "      <td>3.2</td>\n",
       "      <td>1.3</td>\n",
       "      <td>0.2</td>\n",
       "      <td>0</td>\n",
       "    </tr>\n",
       "    <tr>\n",
       "      <th>3</th>\n",
       "      <td>4.6</td>\n",
       "      <td>3.1</td>\n",
       "      <td>1.5</td>\n",
       "      <td>0.2</td>\n",
       "      <td>0</td>\n",
       "    </tr>\n",
       "    <tr>\n",
       "      <th>4</th>\n",
       "      <td>5.0</td>\n",
       "      <td>3.6</td>\n",
       "      <td>1.4</td>\n",
       "      <td>0.2</td>\n",
       "      <td>0</td>\n",
       "    </tr>\n",
       "  </tbody>\n",
       "</table>\n",
       "</div>"
      ],
      "text/plain": [
       "   sepal_length  sepal_width  petal_length  petal_width  species\n",
       "0           5.1          3.5           1.4          0.2        0\n",
       "1           4.9          3.0           1.4          0.2        0\n",
       "2           4.7          3.2           1.3          0.2        0\n",
       "3           4.6          3.1           1.5          0.2        0\n",
       "4           5.0          3.6           1.4          0.2        0"
      ]
     },
     "execution_count": 4,
     "metadata": {},
     "output_type": "execute_result"
    }
   ],
   "source": [
    "data.head()"
   ]
  },
  {
   "cell_type": "markdown",
   "id": "421d8248",
   "metadata": {},
   "source": [
    "Our decision tree uses categorical input. However we have ordinal data. To turn our ordinal data to categorical we will use sci-kit's Discretizer. We will uniformly divide our data into 3 bins. You can try different paramters such as changing the number of bins or using other methods of forming the bins such as k-means. "
   ]
  },
  {
   "cell_type": "markdown",
   "id": "26d56c9c",
   "metadata": {},
   "source": [
    "Lets check how many classes we have and number of samples belonging to each class. As you can see we have a uniformly distributed data. Each class has 50 samples"
   ]
  },
  {
   "cell_type": "code",
   "execution_count": 5,
   "id": "95c31a8b",
   "metadata": {},
   "outputs": [
    {
     "name": "stdout",
     "output_type": "stream",
     "text": [
      "(array([0, 1, 2]), array([50, 50, 50]))\n"
     ]
    }
   ],
   "source": [
    "print(np.unique(data[\"species\"],return_counts=True))"
   ]
  },
  {
   "cell_type": "markdown",
   "id": "3eec31aa",
   "metadata": {},
   "source": [
    "There are different ways to build a decision tree such as using information gain or gini index"
   ]
  },
  {
   "cell_type": "code",
   "execution_count": 6,
   "id": "ea264bfb",
   "metadata": {},
   "outputs": [],
   "source": [
    "# y_data = [left,right] treshold<, <treshold\n",
    "def gini_c(data):\n",
    "    _ , counts = np.unique(data,return_counts=True)\n",
    "\n",
    "    gini = (counts/len(data))**2\n",
    "\n",
    "    gini = 1 - gini.sum()\n",
    "    return gini\n",
    "\n",
    "def compute_gini(y_data):\n",
    "    \n",
    "    weighted_gini = []\n",
    "    n = 0\n",
    "    for i in y_data:\n",
    "        #what if i is empty????\n",
    "        #count how many different\n",
    "        gini = gini_c(i)\n",
    "        \n",
    "        weighted_gini.append(gini * len(i))\n",
    "        \n",
    "        n+=len(i)\n",
    "    weighted_gini = np.array(weighted_gini)/n\n",
    "    return weighted_gini.sum()"
   ]
  },
  {
   "cell_type": "code",
   "execution_count": 7,
   "id": "31d9acfa",
   "metadata": {},
   "outputs": [],
   "source": [
    "#test compute_gini"
   ]
  },
  {
   "cell_type": "code",
   "execution_count": 8,
   "id": "a429a04e",
   "metadata": {},
   "outputs": [
    {
     "name": "stdout",
     "output_type": "stream",
     "text": [
      "0.5\n"
     ]
    }
   ],
   "source": [
    "y_data = [np.array([0]),np.array([2,2,1,0])]\n",
    "print(compute_gini(y_data))"
   ]
  },
  {
   "cell_type": "code",
   "execution_count": 9,
   "id": "15279dd5",
   "metadata": {},
   "outputs": [
    {
     "data": {
      "text/plain": [
       "0.5166666666666666"
      ]
     },
     "execution_count": 9,
     "metadata": {},
     "output_type": "execute_result"
    }
   ],
   "source": [
    "y_data = [np.array([1,2,1,1,0]),np.array([1,0,0])]\n",
    "compute_gini(y_data)"
   ]
  },
  {
   "cell_type": "code",
   "execution_count": 10,
   "id": "166acc8b",
   "metadata": {},
   "outputs": [
    {
     "data": {
      "text/plain": [
       "0.43999999999999995"
      ]
     },
     "execution_count": 10,
     "metadata": {},
     "output_type": "execute_result"
    }
   ],
   "source": [
    "y_data = [np.array([1,0,0,0,0]),np.array([1,2,2,2,0])]\n",
    "compute_gini(y_data)"
   ]
  },
  {
   "cell_type": "code",
   "execution_count": 11,
   "id": "79643597",
   "metadata": {},
   "outputs": [
    {
     "data": {
      "text/plain": [
       "0.0"
      ]
     },
     "execution_count": 11,
     "metadata": {},
     "output_type": "execute_result"
    }
   ],
   "source": [
    "gini_c(np.array([1,1,1,1]))"
   ]
  },
  {
   "cell_type": "code",
   "execution_count": null,
   "id": "446017c6",
   "metadata": {},
   "outputs": [],
   "source": []
  },
  {
   "cell_type": "code",
   "execution_count": null,
   "id": "c5db5fff",
   "metadata": {},
   "outputs": [],
   "source": []
  },
  {
   "cell_type": "code",
   "execution_count": null,
   "id": "4104513c",
   "metadata": {},
   "outputs": [],
   "source": []
  },
  {
   "cell_type": "code",
   "execution_count": 12,
   "id": "fcb38aa2",
   "metadata": {},
   "outputs": [],
   "source": [
    "def gini_select(X,Y):\n",
    "    # X ve Y sort edilmeli\n",
    "    X2 = X.copy()\n",
    "    X2 = X2.sort_values() # we create a copty of X just for finding the thresholds (because we don't want to sort the original data)\n",
    " \n",
    "    thresholds = X2.rolling(2).mean()[1:] # moving average, since first value is NAN we remove it\n",
    "\n",
    "    unique_vals , _ = np.unique(thresholds,return_counts=True) # unique thresholds\n",
    "    \n",
    "    gini_list = []\n",
    "\n",
    "    for tresh in unique_vals:\n",
    "        left_d = np.where(X<tresh)[0] # actually we can iterate over thre X once and use if<thresh,else to divide data\n",
    "        right_d = np.where(X>=tresh)[0] # and not use np.where twice but numpy is faster than regular for loop\n",
    "\n",
    "        gini = compute_gini([Y.iloc[left_d],Y.iloc[right_d]]) #select elements of Y (labels) and compute gini\n",
    "        gini_list.append(gini)\n",
    "        \n",
    "        \"\"\"\n",
    "        Burada gini her adımda öncekilerle karşılaştırılarak minimum değerbulunabilir\n",
    "        Eğer left ve right datanın kopyası tutulup her minimum değiştiğinde değiştirilirse \n",
    "        sadece tek kopya tutup tekrar bunları hesaplamaya gerek kalmaz\n",
    "        \n",
    "        \n",
    "        \"\"\"\n",
    "        \n",
    "        \n",
    "    \n",
    "    arg_min = np.argmin(gini_list) #select lowest gini val\n",
    "    thres_val = unique_vals[arg_min] # select threshold for lowest gini\n",
    "    return thres_val,gini_list[arg_min]"
   ]
  },
  {
   "cell_type": "code",
   "execution_count": 13,
   "id": "0dd6ebb6",
   "metadata": {},
   "outputs": [
    {
     "name": "stdout",
     "output_type": "stream",
     "text": [
      "47    0\n",
      "9     0\n",
      "36    0\n",
      "Name: species, dtype: int64\n",
      "0.0\n",
      "(0.15000000000000002, 0.0)\n"
     ]
    }
   ],
   "source": [
    "r = [47,9,36]\n",
    "data2 = data.iloc[r,:]\n",
    "print(data2[\"species\"])\n",
    "print(gini_c(data2[\"species\"]))\n",
    "print(gini_select(data2.iloc[:,3],data2.iloc[:,-1]))"
   ]
  },
  {
   "cell_type": "code",
   "execution_count": 14,
   "id": "dd18cc26",
   "metadata": {},
   "outputs": [
    {
     "data": {
      "text/plain": [
       "47    4.6\n",
       "9     4.9\n",
       "36    5.5\n",
       "Name: sepal_length, dtype: float64"
      ]
     },
     "execution_count": 14,
     "metadata": {},
     "output_type": "execute_result"
    }
   ],
   "source": [
    "data2.iloc[:,0]"
   ]
  },
  {
   "cell_type": "code",
   "execution_count": 15,
   "id": "8c5cdf38",
   "metadata": {},
   "outputs": [],
   "source": [
    "np.random.seed(0)\n",
    "\n",
    "#r = np.random.randint(0,150,5)\n",
    "\n",
    "r = np.random.randint(0,50,5)\n",
    "\n",
    "X = data[\"sepal_length\"].iloc[r]\n",
    "Y = data[\"species\"].iloc[r]\n",
    "\n",
    "t,g = gini_select(X,Y)\n"
   ]
  },
  {
   "cell_type": "code",
   "execution_count": 16,
   "id": "5f1d6123",
   "metadata": {},
   "outputs": [
    {
     "data": {
      "text/plain": [
       "44    5.1\n",
       "47    4.6\n",
       "0     5.1\n",
       "3     4.6\n",
       "3     4.6\n",
       "Name: sepal_length, dtype: float64"
      ]
     },
     "execution_count": 16,
     "metadata": {},
     "output_type": "execute_result"
    }
   ],
   "source": [
    "X"
   ]
  },
  {
   "cell_type": "code",
   "execution_count": 17,
   "id": "dca1352e",
   "metadata": {},
   "outputs": [
    {
     "data": {
      "text/plain": [
       "4.6"
      ]
     },
     "execution_count": 17,
     "metadata": {},
     "output_type": "execute_result"
    }
   ],
   "source": [
    "t"
   ]
  },
  {
   "cell_type": "code",
   "execution_count": 18,
   "id": "bdcbb20b",
   "metadata": {},
   "outputs": [
    {
     "data": {
      "text/plain": [
       "0.0"
      ]
     },
     "execution_count": 18,
     "metadata": {},
     "output_type": "execute_result"
    }
   ],
   "source": [
    "g"
   ]
  },
  {
   "cell_type": "code",
   "execution_count": null,
   "id": "e508c046",
   "metadata": {},
   "outputs": [],
   "source": []
  },
  {
   "cell_type": "code",
   "execution_count": null,
   "id": "10180a73",
   "metadata": {},
   "outputs": [],
   "source": []
  },
  {
   "cell_type": "code",
   "execution_count": 19,
   "id": "1928fea5",
   "metadata": {},
   "outputs": [],
   "source": [
    "def find_split_feature(data):\n",
    "    feature_select_list = []\n",
    "    for feature_name in data.columns[:-1]:\n",
    "        split_val,gini = gini_select(data[feature_name],data.iloc[:,-1])\n",
    "        feature_select_list.append([feature_name,gini,split_val])\n",
    "    feature_select_list = np.array(feature_select_list)\n",
    "    arg_min = np.argmin(feature_select_list[:,1])\n",
    "    \n",
    "    feature_name = feature_select_list[arg_min,0]\n",
    "    threshold = feature_select_list[arg_min,2]\n",
    "    gini_val = feature_select_list[arg_min,1]\n",
    "    \n",
    "    \n",
    "    \n",
    "    # eğer daha ayrılmıyorsa None gibi birşey return etmeli\n",
    "    \n",
    "    #because we can not have np arrays with different typed\n",
    "    #elements numpy changed everything into string (due to feature name being a string) now we have to revert it\n",
    "    return feature_name,float(threshold),float(gini_val)  \n",
    "    \n",
    "    \n",
    "    "
   ]
  },
  {
   "cell_type": "code",
   "execution_count": 21,
   "id": "5855e6c2",
   "metadata": {},
   "outputs": [
    {
     "data": {
      "text/plain": [
       "('petal_length', 2.45, 0.3333333333333333)"
      ]
     },
     "execution_count": 21,
     "metadata": {},
     "output_type": "execute_result"
    }
   ],
   "source": [
    "find_split_feature(data)"
   ]
  },
  {
   "cell_type": "code",
   "execution_count": 22,
   "id": "9f7925db",
   "metadata": {},
   "outputs": [],
   "source": [
    "# find_split çalışıyor"
   ]
  },
  {
   "cell_type": "code",
   "execution_count": 23,
   "id": "f4184ad1",
   "metadata": {},
   "outputs": [],
   "source": [
    "#bir yerde datayı bölmemiz lazım ki recursion kullanabilelim"
   ]
  },
  {
   "cell_type": "code",
   "execution_count": 24,
   "id": "a0655f6b",
   "metadata": {},
   "outputs": [
    {
     "data": {
      "text/plain": [
       "(0.7999999999999999, 0.0)"
      ]
     },
     "execution_count": 24,
     "metadata": {},
     "output_type": "execute_result"
    }
   ],
   "source": [
    "gini_select(data.iloc[0,:-1],data.iloc[:,-1])"
   ]
  },
  {
   "cell_type": "code",
   "execution_count": 25,
   "id": "3aaca9b8",
   "metadata": {},
   "outputs": [],
   "source": [
    "r = [117,67,103,87,70,88]\n",
    "data2 = data.iloc[r,:]"
   ]
  },
  {
   "cell_type": "code",
   "execution_count": 26,
   "id": "c61463fd",
   "metadata": {},
   "outputs": [
    {
     "data": {
      "text/plain": [
       "('petal_length', 5.199999999999999, 0.0)"
      ]
     },
     "execution_count": 26,
     "metadata": {},
     "output_type": "execute_result"
    }
   ],
   "source": [
    "find_split_feature(data2)"
   ]
  },
  {
   "cell_type": "code",
   "execution_count": 27,
   "id": "f0e666a5",
   "metadata": {},
   "outputs": [],
   "source": [
    "a  = [[1,2,3],[3,1,2],[0,5,6]]"
   ]
  },
  {
   "cell_type": "code",
   "execution_count": 52,
   "id": "42b44f8d",
   "metadata": {},
   "outputs": [],
   "source": [
    "class Node():\n",
    "    def __init__(self):\n",
    "        self.left = None\n",
    "        self.right = None\n",
    "        self.feature = None\n",
    "        self.threshold = None\n",
    "        self.label = None\n",
    "\n",
    "    def __repr__(self):\n",
    "        if self.feature == None:\n",
    "            return \"Leaf->Label: {}\".format(self.label)\n",
    "        else:\n",
    "            return \"Node->Feature: {} Threshold: {}\".format(self.feature,self.threshold)"
   ]
  },
  {
   "cell_type": "code",
   "execution_count": 135,
   "id": "c9414f5b",
   "metadata": {},
   "outputs": [],
   "source": [
    "class TreeNode():\n",
    "    def __init__(self):\n",
    "        self.root = Node()\n",
    "\n",
    "    def build_tree(self,node,data):\n",
    "\n",
    "    \n",
    "        gini = gini_c(data.iloc[:,-1])\n",
    "        if gini!=0:\n",
    "            feature_name,threshold, gini = find_split_feature(data)\n",
    "\n",
    "            node.feature = feature_name\n",
    "            node.threshold = threshold\n",
    "\n",
    "            d = data[feature_name]\n",
    "\n",
    "            left_d = data.iloc[np.where(d<threshold)[0],:] \n",
    "            right_d = data.iloc[np.where(d>=threshold)[0],:]\n",
    "            node.left = Node()\n",
    "\n",
    "            self.build_tree(node.left,left_d)\n",
    "            node.right = Node()\n",
    "\n",
    "            self.build_tree(node.right,right_d)\n",
    "        else:\n",
    "            unique_vals , _ = np.unique(data.iloc[:,-1],return_counts=True)\n",
    "            node.label = unique_vals[0]\n",
    "            \n",
    "    def predict(self,node,data):\n",
    "        if node.label==None:\n",
    "            d = data[node.feature]\n",
    "\n",
    "            if d<node.threshold:\n",
    "\n",
    "                return self.predict(node.left,data)\n",
    "            else:\n",
    "\n",
    "                return self.predict(node.right,data)\n",
    "        else:\n",
    "\n",
    "            return node.label\n",
    "        \n",
    "    def predict_dataset(self,data):\n",
    "        output = []\n",
    "        for i in range(len(data)):\n",
    "            output.append(self.predict(self.root,data.iloc[i,:-1]))\n",
    "        return np.array(output)\n",
    "            "
   ]
  },
  {
   "cell_type": "code",
   "execution_count": 136,
   "id": "f63d471d",
   "metadata": {},
   "outputs": [],
   "source": [
    "a = TreeNode()\n",
    "a.build_tree(a.root,data)"
   ]
  },
  {
   "cell_type": "code",
   "execution_count": 141,
   "id": "4f3e6bc3",
   "metadata": {},
   "outputs": [
    {
     "data": {
      "text/plain": [
       "array([0, 0, 0, 0, 0, 0, 0, 0, 0, 0, 0, 0, 0, 0, 0, 0, 0, 0, 0, 0, 0, 0,\n",
       "       0, 0, 0, 0, 0, 0, 0, 0, 0, 0, 0, 0, 0, 0, 0, 0, 0, 0, 0, 0, 0, 0,\n",
       "       0, 0, 0, 0, 0, 0, 1, 1, 1, 1, 1, 1, 1, 1, 1, 1, 1, 1, 1, 1, 1, 1,\n",
       "       1, 1, 1, 1, 1, 1, 1, 1, 1, 1, 1, 1, 1, 1, 1, 1, 1, 1, 1, 1, 1, 1,\n",
       "       1, 1, 1, 1, 1, 1, 1, 1, 1, 1, 1, 1, 2, 2, 2, 2, 2, 2, 2, 2, 2, 2,\n",
       "       2, 2, 2, 2, 2, 2, 2, 2, 2, 2, 2, 2, 2, 2, 2, 2, 2, 2, 2, 2, 2, 2,\n",
       "       2, 2, 2, 2, 2, 2, 2, 2, 2, 2, 2, 2, 2, 2, 2, 2, 2, 2])"
      ]
     },
     "execution_count": 141,
     "metadata": {},
     "output_type": "execute_result"
    }
   ],
   "source": [
    "a.predict_dataset(data)"
   ]
  },
  {
   "cell_type": "code",
   "execution_count": null,
   "id": "2c3a3086",
   "metadata": {},
   "outputs": [],
   "source": []
  },
  {
   "cell_type": "code",
   "execution_count": null,
   "id": "9f3a7050",
   "metadata": {},
   "outputs": [],
   "source": []
  },
  {
   "cell_type": "code",
   "execution_count": 65,
   "id": "b2b81914",
   "metadata": {},
   "outputs": [
    {
     "data": {
      "text/plain": [
       "Index(['sepal_length', 'sepal_width', 'petal_length', 'petal_width',\n",
       "       'species'],\n",
       "      dtype='object')"
      ]
     },
     "execution_count": 65,
     "metadata": {},
     "output_type": "execute_result"
    }
   ],
   "source": [
    "data.columns"
   ]
  },
  {
   "cell_type": "code",
   "execution_count": 78,
   "id": "9f1e251b",
   "metadata": {},
   "outputs": [
    {
     "data": {
      "text/plain": [
       "Node->Feature: petal_length Threshold: 4.85"
      ]
     },
     "execution_count": 78,
     "metadata": {},
     "output_type": "execute_result"
    }
   ],
   "source": [
    "tree_node.right.right."
   ]
  },
  {
   "cell_type": "code",
   "execution_count": 66,
   "id": "5f8d632e",
   "metadata": {},
   "outputs": [
    {
     "data": {
      "text/plain": [
       "2.45"
      ]
     },
     "execution_count": 66,
     "metadata": {},
     "output_type": "execute_result"
    }
   ],
   "source": [
    "tree_node.threshold"
   ]
  },
  {
   "cell_type": "code",
   "execution_count": 106,
   "id": "7f4ba5b5",
   "metadata": {},
   "outputs": [
    {
     "data": {
      "text/plain": [
       "Leaf->Label: 2"
      ]
     },
     "execution_count": 106,
     "metadata": {},
     "output_type": "execute_result"
    }
   ],
   "source": [
    "a.right.right.right"
   ]
  },
  {
   "cell_type": "code",
   "execution_count": 62,
   "id": "585ba2ca",
   "metadata": {},
   "outputs": [],
   "source": [
    "plt.rcParams[\"figure.figsize\"] = (15,5) # make figures larger"
   ]
  },
  {
   "cell_type": "code",
   "execution_count": null,
   "id": "3d352475",
   "metadata": {},
   "outputs": [],
   "source": [
    "a = TreeNode()\n",
    "a.build_tree(a.root,data)"
   ]
  },
  {
   "cell_type": "code",
   "execution_count": 142,
   "id": "2c351137",
   "metadata": {},
   "outputs": [],
   "source": [
    "from sklearn.model_selection import train_test_split"
   ]
  },
  {
   "cell_type": "code",
   "execution_count": 167,
   "id": "e2bb9820",
   "metadata": {},
   "outputs": [],
   "source": [
    "r = np.random.randint(0,150,50)"
   ]
  },
  {
   "cell_type": "code",
   "execution_count": 168,
   "id": "c1f555ee",
   "metadata": {},
   "outputs": [],
   "source": [
    "data2 = data.iloc[r,:]"
   ]
  },
  {
   "cell_type": "code",
   "execution_count": 169,
   "id": "ae04f9bf",
   "metadata": {},
   "outputs": [],
   "source": [
    "a = TreeNode()\n",
    "a.build_tree(a.root,data2)"
   ]
  },
  {
   "cell_type": "code",
   "execution_count": 170,
   "id": "c4d0f7dc",
   "metadata": {},
   "outputs": [],
   "source": [
    "out_e = a.predict_dataset(data2)"
   ]
  },
  {
   "cell_type": "code",
   "execution_count": 171,
   "id": "fe27ec73",
   "metadata": {},
   "outputs": [
    {
     "data": {
      "image/png": "[encoded data removed]",
      "text/plain": [
       "<Figure size 432x288 with 1 Axes>"
      ]
     },
     "metadata": {
      "needs_background": "light"
     },
     "output_type": "display_data"
    }
   ],
   "source": [
    "from sklearn.tree import plot_tree\n",
    "from sklearn.tree import DecisionTreeClassifier\n",
    "plt.figure()\n",
    "clf = DecisionTreeClassifier().fit(data2.iloc[:,:-1], data2.iloc[:,-1])\n",
    "plot_tree(clf, filled=True)\n",
    "plt.title(\"Decision tree trained on all the iris features\")\n",
    "plt.show()"
   ]
  },
  {
   "cell_type": "code",
   "execution_count": 172,
   "id": "f1118e3f",
   "metadata": {},
   "outputs": [],
   "source": [
    "c = clf.predict(data2.iloc[:,:-1])"
   ]
  },
  {
   "cell_type": "code",
   "execution_count": 173,
   "id": "b8669b0d",
   "metadata": {},
   "outputs": [
    {
     "data": {
      "text/plain": [
       "50"
      ]
     },
     "execution_count": 173,
     "metadata": {},
     "output_type": "execute_result"
    }
   ],
   "source": [
    "(c == out_e).sum()"
   ]
  },
  {
   "cell_type": "code",
   "execution_count": null,
   "id": "5be428b0",
   "metadata": {},
   "outputs": [],
   "source": []
  }
 ],
 "metadata": {
  "kernelspec": {
   "display_name": "Python 3",
   "language": "python",
   "name": "python3"
  },
  "language_info": {
   "codemirror_mode": {
    "name": "ipython",
    "version": 3
   },
   "file_extension": ".py",
   "mimetype": "text/x-python",
   "name": "python",
   "nbconvert_exporter": "python",
   "pygments_lexer": "ipython3",
   "version": "3.7.10"
  }
 },
 "nbformat": 4,
 "nbformat_minor": 5
}
