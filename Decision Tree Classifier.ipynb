{
 "cells": [
  {
   "cell_type": "code",
   "execution_count": 1,
   "id": "d77870a2",
   "metadata": {},
   "outputs": [],
   "source": [
    "import numpy as np\n",
    "import pandas as pd\n",
    "from sklearn.preprocessing import LabelEncoder\n",
    "import seaborn as sns\n",
    "import matplotlib.pyplot as plt"
   ]
  },
  {
   "cell_type": "markdown",
   "id": "783be7a6",
   "metadata": {},
   "source": [
    "First lets load our data"
   ]
  },
  {
   "cell_type": "code",
   "execution_count": 2,
   "id": "92272cf2",
   "metadata": {},
   "outputs": [
    {
     "data": {
      "text/html": [
       "<div>\n",
       "<style scoped>\n",
       "    .dataframe tbody tr th:only-of-type {\n",
       "        vertical-align: middle;\n",
       "    }\n",
       "\n",
       "    .dataframe tbody tr th {\n",
       "        vertical-align: top;\n",
       "    }\n",
       "\n",
       "    .dataframe thead th {\n",
       "        text-align: right;\n",
       "    }\n",
       "</style>\n",
       "<table border=\"1\" class=\"dataframe\">\n",
       "  <thead>\n",
       "    <tr style=\"text-align: right;\">\n",
       "      <th></th>\n",
       "      <th>sepal_length</th>\n",
       "      <th>sepal_width</th>\n",
       "      <th>petal_length</th>\n",
       "      <th>petal_width</th>\n",
       "      <th>species</th>\n",
       "    </tr>\n",
       "  </thead>\n",
       "  <tbody>\n",
       "    <tr>\n",
       "      <th>0</th>\n",
       "      <td>5.1</td>\n",
       "      <td>3.5</td>\n",
       "      <td>1.4</td>\n",
       "      <td>0.2</td>\n",
       "      <td>setosa</td>\n",
       "    </tr>\n",
       "    <tr>\n",
       "      <th>1</th>\n",
       "      <td>4.9</td>\n",
       "      <td>3.0</td>\n",
       "      <td>1.4</td>\n",
       "      <td>0.2</td>\n",
       "      <td>setosa</td>\n",
       "    </tr>\n",
       "    <tr>\n",
       "      <th>2</th>\n",
       "      <td>4.7</td>\n",
       "      <td>3.2</td>\n",
       "      <td>1.3</td>\n",
       "      <td>0.2</td>\n",
       "      <td>setosa</td>\n",
       "    </tr>\n",
       "    <tr>\n",
       "      <th>3</th>\n",
       "      <td>4.6</td>\n",
       "      <td>3.1</td>\n",
       "      <td>1.5</td>\n",
       "      <td>0.2</td>\n",
       "      <td>setosa</td>\n",
       "    </tr>\n",
       "    <tr>\n",
       "      <th>4</th>\n",
       "      <td>5.0</td>\n",
       "      <td>3.6</td>\n",
       "      <td>1.4</td>\n",
       "      <td>0.2</td>\n",
       "      <td>setosa</td>\n",
       "    </tr>\n",
       "  </tbody>\n",
       "</table>\n",
       "</div>"
      ],
      "text/plain": [
       "   sepal_length  sepal_width  petal_length  petal_width species\n",
       "0           5.1          3.5           1.4          0.2  setosa\n",
       "1           4.9          3.0           1.4          0.2  setosa\n",
       "2           4.7          3.2           1.3          0.2  setosa\n",
       "3           4.6          3.1           1.5          0.2  setosa\n",
       "4           5.0          3.6           1.4          0.2  setosa"
      ]
     },
     "execution_count": 2,
     "metadata": {},
     "output_type": "execute_result"
    }
   ],
   "source": [
    "data = pd.read_csv(\"./data/iris.csv\")\n",
    "data.head()"
   ]
  },
  {
   "cell_type": "markdown",
   "id": "45f14b31",
   "metadata": {},
   "source": [
    "We will represent species (or classes) as integers instead of their names. To do this we will use sci-kit's LabelEncoder"
   ]
  },
  {
   "cell_type": "code",
   "execution_count": 3,
   "id": "e94a0ca1",
   "metadata": {},
   "outputs": [],
   "source": [
    "label_enc = LabelEncoder()\n",
    "data[\"species\"] = label_enc.fit_transform(data[\"species\"])"
   ]
  },
  {
   "cell_type": "code",
   "execution_count": 4,
   "id": "8af56e17",
   "metadata": {},
   "outputs": [
    {
     "data": {
      "text/html": [
       "<div>\n",
       "<style scoped>\n",
       "    .dataframe tbody tr th:only-of-type {\n",
       "        vertical-align: middle;\n",
       "    }\n",
       "\n",
       "    .dataframe tbody tr th {\n",
       "        vertical-align: top;\n",
       "    }\n",
       "\n",
       "    .dataframe thead th {\n",
       "        text-align: right;\n",
       "    }\n",
       "</style>\n",
       "<table border=\"1\" class=\"dataframe\">\n",
       "  <thead>\n",
       "    <tr style=\"text-align: right;\">\n",
       "      <th></th>\n",
       "      <th>sepal_length</th>\n",
       "      <th>sepal_width</th>\n",
       "      <th>petal_length</th>\n",
       "      <th>petal_width</th>\n",
       "      <th>species</th>\n",
       "    </tr>\n",
       "  </thead>\n",
       "  <tbody>\n",
       "    <tr>\n",
       "      <th>0</th>\n",
       "      <td>5.1</td>\n",
       "      <td>3.5</td>\n",
       "      <td>1.4</td>\n",
       "      <td>0.2</td>\n",
       "      <td>0</td>\n",
       "    </tr>\n",
       "    <tr>\n",
       "      <th>1</th>\n",
       "      <td>4.9</td>\n",
       "      <td>3.0</td>\n",
       "      <td>1.4</td>\n",
       "      <td>0.2</td>\n",
       "      <td>0</td>\n",
       "    </tr>\n",
       "    <tr>\n",
       "      <th>2</th>\n",
       "      <td>4.7</td>\n",
       "      <td>3.2</td>\n",
       "      <td>1.3</td>\n",
       "      <td>0.2</td>\n",
       "      <td>0</td>\n",
       "    </tr>\n",
       "    <tr>\n",
       "      <th>3</th>\n",
       "      <td>4.6</td>\n",
       "      <td>3.1</td>\n",
       "      <td>1.5</td>\n",
       "      <td>0.2</td>\n",
       "      <td>0</td>\n",
       "    </tr>\n",
       "    <tr>\n",
       "      <th>4</th>\n",
       "      <td>5.0</td>\n",
       "      <td>3.6</td>\n",
       "      <td>1.4</td>\n",
       "      <td>0.2</td>\n",
       "      <td>0</td>\n",
       "    </tr>\n",
       "  </tbody>\n",
       "</table>\n",
       "</div>"
      ],
      "text/plain": [
       "   sepal_length  sepal_width  petal_length  petal_width  species\n",
       "0           5.1          3.5           1.4          0.2        0\n",
       "1           4.9          3.0           1.4          0.2        0\n",
       "2           4.7          3.2           1.3          0.2        0\n",
       "3           4.6          3.1           1.5          0.2        0\n",
       "4           5.0          3.6           1.4          0.2        0"
      ]
     },
     "execution_count": 4,
     "metadata": {},
     "output_type": "execute_result"
    }
   ],
   "source": [
    "data.head()"
   ]
  },
  {
   "cell_type": "markdown",
   "id": "26d56c9c",
   "metadata": {},
   "source": [
    "Lets check how many classes we have and number of samples belonging to each class. As you can see we have a uniformly distributed data. Each class has 50 samples"
   ]
  },
  {
   "cell_type": "code",
   "execution_count": 5,
   "id": "95c31a8b",
   "metadata": {},
   "outputs": [
    {
     "name": "stdout",
     "output_type": "stream",
     "text": [
      "(array([0, 1, 2]), array([50, 50, 50]))\n"
     ]
    }
   ],
   "source": [
    "print(np.unique(data[\"species\"],return_counts=True))"
   ]
  },
  {
   "cell_type": "markdown",
   "id": "3eec31aa",
   "metadata": {},
   "source": [
    "A decision tree consists of a set of questions about the input. Depending on the answers to these questions we move forward (or down since its a tree) in the tree. We do this until we get to a point where there are no more questions. Which is called a leaf. Our label predicted by our tree is located at this leaf. The parts of the tree which have questions are called the nodes. Lets give a simple example. Lets take the sepal_length feature and say that we have a threshold of 4.6. Each node two child nodes. One child node is called left and the other one is called the right child node. Lets say that sepal_length is 4.8 for a sample. When we come to this node we will compare the input's sepal_length (4.8) with threshold value (4.6). Our sepal_legnth value is higher which means we will move to the right node. If our sepal_length was smaller than the threshold we would go to the left node. So on each node we have a threshold value and two child nodes. Left child node is for the samples with smaller value than our threshold and right child node is for the samples with higher value than our threshold. To classify a sample we go trough each node, compare the threshold and our feature to decide which way to move until we have no more child nodes to go (until we arrive to a leaf node). In this example we only use continues non-categorical input and implement our decision tree for this type of inputs. Now we will look at how we build a decision tree, how we decide value of the threshold and in which order we put our questions.\n",
    "\n",
    "\n",
    "\n",
    "As we have said in a decision tree we compare the threshold values and input features. A feature can be used more than once. So we can have two nodes making comparisons using the same feature. To build the tree we have to solve the following problems: How do we decide which features to use? What will be the order of these features in the tree? There are multiple popular ways to solve this problem such as entropy or gini impurity. These two are metric which shows how homogenous our distribution is. Since we have a classifier we want each class to be seperate at the end. So lets say we have some samples with labels: [0,1,0,0,1]. After we pass our samples trough a node the samples will be divided into two (left and right child nodes). So the ideal seperation would be [0,0,0], [1,1]. If our training data was only this an if we could have achieved this with a single node we would not add other nodes to the tree. So on each node we want to seperate each class as much as possible. We will use gini impurity for this. If you calculate gini impurity for [0,0,0] the result will be zero. So we want lower values of gini impurity at each node. "
   ]
  },
  {
   "cell_type": "code",
   "execution_count": 6,
   "id": "ea264bfb",
   "metadata": {},
   "outputs": [],
   "source": [
    "def compute_gini(data):\n",
    "    _ , counts = np.unique(data,return_counts=True)\n",
    "\n",
    "    gini = (counts/len(data))**2\n",
    "\n",
    "    gini = 1 - gini.sum()\n",
    "    return gini\n",
    "\n",
    "def weighted_gini(data): # a list of arrays (two element list)\n",
    "    w_gini = []\n",
    "    n = 0\n",
    "    \n",
    "    for i in data:\n",
    "        gini = compute_gini(i)\n",
    "        w_gini.append(gini * len(i)) \n",
    "        n+=len(i)\n",
    "        \n",
    "    w_gini = np.array(w_gini)/n\n",
    "    return w_gini.sum()"
   ]
  },
  {
   "cell_type": "markdown",
   "id": "7beb63a6",
   "metadata": {},
   "source": [
    "The gini impurity formula is: $1 - \\sum_{i=0}^{c} p_i^2$. Here c is the number of classes and p is the probabilty of the class. We can easily compute $p$ as number of samples with label i/ total number of samples. Gini impurity is calculated by compute_gini function. Remember that a node seperates the inputs into two groups. So we can't caclulate a single gini impurity. So for a node we calculate the weighted gini impurity. We calculate  the gini impurity for both child nodes. We multiply each node with the number of samples it has and divide by the total number of samples. Now lets look at different cases and calculate gini impurity."
   ]
  },
  {
   "cell_type": "code",
   "execution_count": 7,
   "id": "66a0a284",
   "metadata": {},
   "outputs": [
    {
     "name": "stdout",
     "output_type": "stream",
     "text": [
      "0.0\n",
      "0.48\n",
      "0.48\n",
      "0.99\n"
     ]
    }
   ],
   "source": [
    "print(compute_gini(np.array([0,0,0,0,0])))\n",
    "print(compute_gini(np.array([1,1,0,0,0])))\n",
    "print(compute_gini(np.array([1,1,1,0,0])))\n",
    "print(compute_gini(np.arange(100)))"
   ]
  },
  {
   "cell_type": "markdown",
   "id": "553becd9",
   "metadata": {},
   "source": [
    "As you can see when all samples are same in an input gini impurity is zero. As we add sampels with different labels gini impurity increases. Gini impurity of second and third example is same because in both cases sample ratio is 2-3. In second example there are 2 ones and 3 zeros whereas in the third example there are 2 ones and 3 zeros. Lastly in a case of 100 samples with different labels the gini impurity becomes close to 1 (which is the limit). \n",
    "\n",
    "Lets move on to calculation of the threshold and how to pick the feature. For a given feature lets say our values are [3.5,0.5,2]. First we sort our values: [0.5,2,3.5]. Then we calculate the average of every neigbour element: [1.25,2.75]. Now we have two candidates for our threshold value. We calculate weighted gini impurity for each candidate. Then we pick the threshold which gives us the lowest gini impurity (the one that seperate the classes most). These steps are implemented in gini_select function below."
   ]
  },
  {
   "cell_type": "code",
   "execution_count": 8,
   "id": "fcb38aa2",
   "metadata": {},
   "outputs": [],
   "source": [
    "def gini_select(X,Y): # X is data for only a single feature\n",
    "    X2 = X.copy() # we create a copy of X just for finding the thresholds (we don't want to sort the original data)\n",
    "    X2 = X2.sort_values()\n",
    " \n",
    "    thresholds = X2.rolling(2).mean()[1:] # moving average, since first value is NAN we remove it\n",
    "\n",
    "    unique_vals , _ = np.unique(thresholds,return_counts=True) # get each unique threshold value\n",
    "    \n",
    "    gini_list = []\n",
    "\n",
    "    for tresh in unique_vals: #iterate over each threshold\n",
    "        # seperate the data using threshold\n",
    "        left_d = np.where(X<tresh)[0] # actually we can iterate over thre X once and use if<thresh,else to divide data\n",
    "        right_d = np.where(X>=tresh)[0] # and not use np.where twice but numpy is faster than regular for loop\n",
    "\n",
    "        gini = weighted_gini([Y.iloc[left_d],Y.iloc[right_d]]) #select elements of Y (labels) and calculate gini\n",
    "        gini_list.append(gini)\n",
    "\n",
    "    arg_min = np.argmin(gini_list) #select lowest gini val\n",
    "    thres_val = unique_vals[arg_min] # select threshold for lowest gini\n",
    "    gini = gini_list[arg_min]\n",
    "    return thres_val,gini"
   ]
  },
  {
   "cell_type": "markdown",
   "id": "6647ed5c",
   "metadata": {},
   "source": [
    "Now we have learned how to pick the threshold value but how do we pick which feature to use? More importantly in which order should we use our features? The answer is simple, we are going to pick our features in the way we have picked up our threshold. We will iterate over each feature, for each feature we will calcuate the threshold and gini impurity. Then we will pick up the feature which gives us the lowest gini impurity. "
   ]
  },
  {
   "cell_type": "code",
   "execution_count": 9,
   "id": "1928fea5",
   "metadata": {},
   "outputs": [],
   "source": [
    "def find_split_feature(X,Y): # data is a pandas dataframe\n",
    "    feature_select_list = []\n",
    "    \n",
    "    for feature_name in X.columns:\n",
    "        split_val,gini = gini_select(X[feature_name],Y)\n",
    "        feature_select_list.append([feature_name,gini,split_val])\n",
    "  \n",
    "    feature_select_list = np.array(feature_select_list)\n",
    "    arg_min = np.argmin(feature_select_list[:,1])\n",
    "    \n",
    "    feature_name = feature_select_list[arg_min,0]\n",
    "    threshold = feature_select_list[arg_min,2]\n",
    "    gini_val = feature_select_list[arg_min,1]\n",
    "    \n",
    "    #because we can not have np arrays with different typed\n",
    "    #elements numpy changed everything into string (due to feature name being a string) now we have to revert it\n",
    "    return feature_name,float(threshold),float(gini_val)     "
   ]
  },
  {
   "cell_type": "markdown",
   "id": "73b404aa",
   "metadata": {},
   "source": [
    "Lets calculate the feature that will be on top of our tree."
   ]
  },
  {
   "cell_type": "code",
   "execution_count": 10,
   "id": "5855e6c2",
   "metadata": {},
   "outputs": [
    {
     "data": {
      "text/plain": [
       "('petal_length', 2.45, 0.3333333333333333)"
      ]
     },
     "execution_count": 10,
     "metadata": {},
     "output_type": "execute_result"
    }
   ],
   "source": [
    "find_split_feature(data.iloc[:,:-1],data.iloc[:,-1])"
   ]
  },
  {
   "cell_type": "code",
   "execution_count": 11,
   "id": "1f7ee8c8",
   "metadata": {},
   "outputs": [
    {
     "name": "stdout",
     "output_type": "stream",
     "text": [
      "[0 0 0 0 0 0 0 0 0 0 0 0 0 0 0 0 0 0 0 0 0 0 0 0 0 0 0 0 0 0 0 0 0 0 0 0 0\n",
      " 0 0 0 0 0 0 0 0 0 0 0 0 0]\n",
      "50\n"
     ]
    }
   ],
   "source": [
    "a = np.where(data[[\"petal_length\"]].values<2.45)\n",
    "print(a[1])\n",
    "print(len(a[1]))"
   ]
  },
  {
   "cell_type": "markdown",
   "id": "bd3f5655",
   "metadata": {},
   "source": [
    "On the cell above we have checked which samples are under our threshold value. As you can see all examples with label 0 are seperated with just using petal_length (there are 50 samples with label 0). So just in the first node we are able to seperate a whole class! \n",
    "\n",
    "Now lets move on to building our tree. As we have said before a tree consists of nodes. So we will first create a Node class and then a tree class. "
   ]
  },
  {
   "cell_type": "code",
   "execution_count": null,
   "id": "cd3ebd6c",
   "metadata": {},
   "outputs": [],
   "source": []
  },
  {
   "cell_type": "code",
   "execution_count": 12,
   "id": "42b44f8d",
   "metadata": {},
   "outputs": [],
   "source": [
    "class Node():\n",
    "    def __init__(self):\n",
    "        self.left = None\n",
    "        self.right = None\n",
    "        self.feature = None\n",
    "        self.threshold = None\n",
    "        self.label = None\n",
    "\n",
    "    def __repr__(self):\n",
    "        if self.feature == None:\n",
    "            return \"Leaf->Label: {}\".format(self.label)\n",
    "        else:\n",
    "            return \"Node->Feature: {} Threshold: {}\".format(self.feature,self.threshold)"
   ]
  },
  {
   "cell_type": "markdown",
   "id": "bf7da6b8",
   "metadata": {},
   "source": [
    "Each node has a left and right node. In the consturctor we initialize them as None but we will later add another node toe left and right of our node. To be able to print our node we have the repr function. If our node is a leaf we print out the label, if not we print the threshold and the name of the feature that seperates the input."
   ]
  },
  {
   "cell_type": "code",
   "execution_count": 13,
   "id": "c9414f5b",
   "metadata": {},
   "outputs": [],
   "source": [
    "class DesicionTree():\n",
    "    def __init__(self):\n",
    "        self.root = Node()\n",
    "\n",
    "    def build_tree(self,node,X,Y): # data is pandas dataframe\n",
    "\n",
    "    \n",
    "        gini = compute_gini(Y)\n",
    "        if gini!=0:\n",
    "            feature_name,threshold, gini = find_split_feature(X,Y)\n",
    "\n",
    "            node.feature = feature_name\n",
    "            node.threshold = threshold\n",
    "\n",
    "            d = X[feature_name]\n",
    "            left_ind = np.where(d<threshold)[0]\n",
    "            right_ind = np.where(d>=threshold)[0]\n",
    "            \n",
    "            node.left = Node()\n",
    "            self.build_tree(node.left,X.iloc[left_ind,:],Y.iloc[left_ind])\n",
    "            \n",
    "            node.right = Node()\n",
    "            self.build_tree(node.right,X.iloc[right_ind,:],Y.iloc[right_ind])\n",
    "            \n",
    "        else:\n",
    "            unique_vals , _ = np.unique(Y,return_counts=True)\n",
    "            node.label = unique_vals[0]\n",
    "            \n",
    "    def predict(self,node,data): # data is a pandas dataframe with a single sample\n",
    "        if node.label==None:\n",
    "            d = data[node.feature]\n",
    "\n",
    "            if d<node.threshold:\n",
    "\n",
    "                return self.predict(node.left,data)\n",
    "            else:\n",
    "\n",
    "                return self.predict(node.right,data)\n",
    "        else:\n",
    "\n",
    "            return node.label\n",
    "        \n",
    "    def predict_dataset(self,data): # data is a pandas dataframe\n",
    "        output = []\n",
    "        for i in range(len(data)):\n",
    "            output.append(self.predict(self.root,data.iloc[i,:]))\n",
    "        return np.array(output)\n",
    "    \n",
    "            "
   ]
  },
  {
   "cell_type": "markdown",
   "id": "2d6f9a23",
   "metadata": {},
   "source": [
    "You can see that our tree has only a root node. We have three methods in our class. We will go over them one by one. First method is build_tree. As you can see it is a recursive function (which means it calls it self). First we check the gini impurity (not weighted gini) to see if our data consist of a single class. If it is we don't need more seperation. If not we find which feature splits the data best. Then we add the threshold and feature name to our node and divide our data into two. Then we add the left child node to our node and pass the child node and left portion of data into build tree. As you can see we will return to the top of  build_tree. So we will continue doing this until we don't need more seperation (gini = 0). Then we will start going back and calculating the right side. If this recursion method is confusing you can grab a pen and a paper and try to build a small tree with just a couple of samples by hand. \n",
    "\n",
    "Our second method is predict. As you can tell by its name it is used for predicting the label of a sample. Again we use recursion and go trough the nodes of our tree until we come to a leaf node.\n",
    "\n",
    "Lastly predict_dataset method is for predicting labels of an entire dataset using a single method.\n",
    "We could have added the functions we have shown before such as find_split_feature and gini_select. We did not include them to this class to make this class shorter and go over those functions in seperate cells. Also  note that our model is likely to overfit because we did not include parameters such as maximum tree depth."
   ]
  },
  {
   "cell_type": "code",
   "execution_count": 14,
   "id": "a00fb61e",
   "metadata": {},
   "outputs": [],
   "source": [
    "from sklearn.model_selection import train_test_split\n",
    "X_train, X_test, y_train, y_test = train_test_split(data.iloc[:,:-1], data.iloc[:,-1], test_size=0.33, random_state=42)"
   ]
  },
  {
   "cell_type": "markdown",
   "id": "d21d9c65",
   "metadata": {},
   "source": [
    "Now lets divide our data into train and test sets and look the performance on test set."
   ]
  },
  {
   "cell_type": "code",
   "execution_count": 15,
   "id": "648f4e84",
   "metadata": {},
   "outputs": [],
   "source": [
    "tree = DesicionTree()\n",
    "tree.build_tree(tree.root,X_train,y_train)"
   ]
  },
  {
   "cell_type": "code",
   "execution_count": 16,
   "id": "fde8eb6a",
   "metadata": {},
   "outputs": [],
   "source": [
    "out_put = tree.predict_dataset(X_test)"
   ]
  },
  {
   "cell_type": "code",
   "execution_count": 17,
   "id": "a49bde47",
   "metadata": {},
   "outputs": [
    {
     "data": {
      "text/plain": [
       "array([1, 0, 2, 1, 1, 0, 1, 2, 2, 1, 2, 0, 0, 0, 0, 1, 2, 1, 1, 2, 0, 2,\n",
       "       0, 2, 2, 2, 2, 2, 0, 0, 0, 0, 1, 0, 0, 2, 1, 0, 0, 0, 2, 1, 1, 0,\n",
       "       0, 1, 1, 2, 1, 2])"
      ]
     },
     "execution_count": 17,
     "metadata": {},
     "output_type": "execute_result"
    }
   ],
   "source": [
    "out_put"
   ]
  },
  {
   "cell_type": "markdown",
   "id": "f9711d25",
   "metadata": {},
   "source": [
    "Lets check our accuracy on test set."
   ]
  },
  {
   "cell_type": "code",
   "execution_count": 18,
   "id": "fba5c94f",
   "metadata": {},
   "outputs": [
    {
     "data": {
      "text/plain": [
       "96.0"
      ]
     },
     "execution_count": 18,
     "metadata": {},
     "output_type": "execute_result"
    }
   ],
   "source": [
    "100*(out_put == y_test).sum()/len(y_test)"
   ]
  },
  {
   "cell_type": "code",
   "execution_count": 19,
   "id": "585ba2ca",
   "metadata": {},
   "outputs": [],
   "source": [
    "plt.rcParams[\"figure.figsize\"] = (15,6) # make figures larger"
   ]
  },
  {
   "cell_type": "markdown",
   "id": "637f11ed",
   "metadata": {},
   "source": [
    "Lets use scikits decision tree and compare the results."
   ]
  },
  {
   "cell_type": "code",
   "execution_count": 20,
   "id": "fe27ec73",
   "metadata": {},
   "outputs": [
    {
     "data": {
      "image/png": "[encoded data removed]",
      "text/plain": [
       "<Figure size 1080x432 with 1 Axes>"
      ]
     },
     "metadata": {
      "needs_background": "light"
     },
     "output_type": "display_data"
    }
   ],
   "source": [
    "from sklearn.tree import plot_tree\n",
    "from sklearn.tree import DecisionTreeClassifier\n",
    "plt.figure()\n",
    "clf = DecisionTreeClassifier().fit(X_train, y_train)\n",
    "plot_tree(clf, filled=True)\n",
    "plt.title(\"Decision tree trained on all the iris features\")\n",
    "plt.show()"
   ]
  },
  {
   "cell_type": "code",
   "execution_count": 21,
   "id": "f1118e3f",
   "metadata": {},
   "outputs": [],
   "source": [
    "out_scikit = clf.predict(X_test)"
   ]
  },
  {
   "cell_type": "markdown",
   "id": "9eda95b3",
   "metadata": {},
   "source": [
    "Lets check scikit's accuracy."
   ]
  },
  {
   "cell_type": "code",
   "execution_count": 22,
   "id": "dd63d0e2",
   "metadata": {},
   "outputs": [
    {
     "data": {
      "text/plain": [
       "98.0"
      ]
     },
     "execution_count": 22,
     "metadata": {},
     "output_type": "execute_result"
    }
   ],
   "source": [
    "100*(out_scikit == y_test).sum()/len(y_test)"
   ]
  },
  {
   "cell_type": "markdown",
   "id": "cb523ea7",
   "metadata": {},
   "source": [
    "Lets check how many predictions of our classifier is same with scikit's in terms of %."
   ]
  },
  {
   "cell_type": "code",
   "execution_count": 23,
   "id": "b8669b0d",
   "metadata": {},
   "outputs": [
    {
     "data": {
      "text/plain": [
       "98.0"
      ]
     },
     "execution_count": 23,
     "metadata": {},
     "output_type": "execute_result"
    }
   ],
   "source": [
    "100.*(out_put == out_scikit).sum()/len(y_test)"
   ]
  },
  {
   "cell_type": "markdown",
   "id": "4077e1b3",
   "metadata": {},
   "source": [
    "As you can see all the the outputs of our tree is similar to scikit's. Now lets compare the nodes of the trees."
   ]
  },
  {
   "cell_type": "code",
   "execution_count": 24,
   "id": "c27180de",
   "metadata": {},
   "outputs": [
    {
     "name": "stdout",
     "output_type": "stream",
     "text": [
      "Node->Feature: petal_length Threshold: 2.45\n",
      "Leaf->Label: 0\n",
      "Node->Feature: petal_width Threshold: 1.75\n",
      "Node->Feature: petal_length Threshold: 4.85\n",
      "Leaf->Label: 2\n"
     ]
    }
   ],
   "source": [
    "print(tree.root)\n",
    "print(tree.root.left)\n",
    "print(tree.root.right)\n",
    "print(tree.root.right.right)\n",
    "print(tree.root.right.right.right)"
   ]
  },
  {
   "cell_type": "markdown",
   "id": "46ba4f3e",
   "metadata": {},
   "source": [
    "You can see that the nodes are similar."
   ]
  },
  {
   "cell_type": "code",
   "execution_count": null,
   "id": "16be74af",
   "metadata": {},
   "outputs": [],
   "source": []
  }
 ],
 "metadata": {
  "kernelspec": {
   "display_name": "Python 3",
   "language": "python",
   "name": "python3"
  },
  "language_info": {
   "codemirror_mode": {
    "name": "ipython",
    "version": 3
   },
   "file_extension": ".py",
   "mimetype": "text/x-python",
   "name": "python",
   "nbconvert_exporter": "python",
   "pygments_lexer": "ipython3",
   "version": "3.7.10"
  }
 },
 "nbformat": 4,
 "nbformat_minor": 5
}
